{
 "cells": [
  {
   "cell_type": "code",
   "execution_count": 2,
   "metadata": {},
   "outputs": [],
   "source": [
    "import os\n",
    "import pandas as pd\n",
    "import seaborn as sns\n",
    "import matplotlib.pyplot as plt"
   ]
  },
  {
   "cell_type": "markdown",
   "metadata": {},
   "source": [
    "# Importing the cleaned Data"
   ]
  },
  {
   "cell_type": "code",
   "execution_count": 7,
   "metadata": {},
   "outputs": [],
   "source": [
    "clean_df = pd.read_csv(\"../Data/Processed Data/clean_df.csv\")"
   ]
  },
  {
   "cell_type": "code",
   "execution_count": 8,
   "metadata": {},
   "outputs": [
    {
     "data": {
      "text/html": [
       "<div>\n",
       "<style scoped>\n",
       "    .dataframe tbody tr th:only-of-type {\n",
       "        vertical-align: middle;\n",
       "    }\n",
       "\n",
       "    .dataframe tbody tr th {\n",
       "        vertical-align: top;\n",
       "    }\n",
       "\n",
       "    .dataframe thead th {\n",
       "        text-align: right;\n",
       "    }\n",
       "</style>\n",
       "<table border=\"1\" class=\"dataframe\">\n",
       "  <thead>\n",
       "    <tr style=\"text-align: right;\">\n",
       "      <th></th>\n",
       "      <th>Month</th>\n",
       "      <th>Falls within</th>\n",
       "      <th>Longitude</th>\n",
       "      <th>Latitude</th>\n",
       "      <th>Location</th>\n",
       "      <th>LSOA code</th>\n",
       "      <th>LSOA name</th>\n",
       "      <th>Crime type</th>\n",
       "      <th>Last outcome category</th>\n",
       "    </tr>\n",
       "  </thead>\n",
       "  <tbody>\n",
       "    <tr>\n",
       "      <th>0</th>\n",
       "      <td>2023-01-01</td>\n",
       "      <td>Cleveland Police</td>\n",
       "      <td>-1.212283</td>\n",
       "      <td>54.506084</td>\n",
       "      <td>On or near Bromley Lane</td>\n",
       "      <td>E01027626</td>\n",
       "      <td>Hambleton 002D</td>\n",
       "      <td>Other theft</td>\n",
       "      <td>Investigation complete; no suspect identified</td>\n",
       "    </tr>\n",
       "    <tr>\n",
       "      <th>1</th>\n",
       "      <td>2023-01-01</td>\n",
       "      <td>Cleveland Police</td>\n",
       "      <td>-1.235660</td>\n",
       "      <td>54.710526</td>\n",
       "      <td>On or near Dobson Place</td>\n",
       "      <td>E01011954</td>\n",
       "      <td>Hartlepool 001A</td>\n",
       "      <td>Anti-social behaviour</td>\n",
       "      <td>statusUnknown</td>\n",
       "    </tr>\n",
       "    <tr>\n",
       "      <th>2</th>\n",
       "      <td>2023-01-01</td>\n",
       "      <td>Cleveland Police</td>\n",
       "      <td>-1.237805</td>\n",
       "      <td>54.711196</td>\n",
       "      <td>On or near King Oswy Shops</td>\n",
       "      <td>E01011954</td>\n",
       "      <td>Hartlepool 001A</td>\n",
       "      <td>Anti-social behaviour</td>\n",
       "      <td>statusUnknown</td>\n",
       "    </tr>\n",
       "    <tr>\n",
       "      <th>3</th>\n",
       "      <td>2023-01-01</td>\n",
       "      <td>Cleveland Police</td>\n",
       "      <td>-1.236325</td>\n",
       "      <td>54.713146</td>\n",
       "      <td>On or near Lazenby Road</td>\n",
       "      <td>E01011954</td>\n",
       "      <td>Hartlepool 001A</td>\n",
       "      <td>Anti-social behaviour</td>\n",
       "      <td>statusUnknown</td>\n",
       "    </tr>\n",
       "    <tr>\n",
       "      <th>4</th>\n",
       "      <td>2023-01-01</td>\n",
       "      <td>Cleveland Police</td>\n",
       "      <td>-1.239865</td>\n",
       "      <td>54.710589</td>\n",
       "      <td>On or near Marshall Close</td>\n",
       "      <td>E01011954</td>\n",
       "      <td>Hartlepool 001A</td>\n",
       "      <td>Burglary</td>\n",
       "      <td>Investigation complete; no suspect identified</td>\n",
       "    </tr>\n",
       "  </tbody>\n",
       "</table>\n",
       "</div>"
      ],
      "text/plain": [
       "        Month      Falls within  Longitude   Latitude  \\\n",
       "0  2023-01-01  Cleveland Police  -1.212283  54.506084   \n",
       "1  2023-01-01  Cleveland Police  -1.235660  54.710526   \n",
       "2  2023-01-01  Cleveland Police  -1.237805  54.711196   \n",
       "3  2023-01-01  Cleveland Police  -1.236325  54.713146   \n",
       "4  2023-01-01  Cleveland Police  -1.239865  54.710589   \n",
       "\n",
       "                     Location  LSOA code        LSOA name  \\\n",
       "0     On or near Bromley Lane  E01027626   Hambleton 002D   \n",
       "1     On or near Dobson Place  E01011954  Hartlepool 001A   \n",
       "2  On or near King Oswy Shops  E01011954  Hartlepool 001A   \n",
       "3     On or near Lazenby Road  E01011954  Hartlepool 001A   \n",
       "4   On or near Marshall Close  E01011954  Hartlepool 001A   \n",
       "\n",
       "              Crime type                          Last outcome category  \n",
       "0            Other theft  Investigation complete; no suspect identified  \n",
       "1  Anti-social behaviour                                  statusUnknown  \n",
       "2  Anti-social behaviour                                  statusUnknown  \n",
       "3  Anti-social behaviour                                  statusUnknown  \n",
       "4               Burglary  Investigation complete; no suspect identified  "
      ]
     },
     "execution_count": 8,
     "metadata": {},
     "output_type": "execute_result"
    }
   ],
   "source": [
    "clean_df.head()"
   ]
  },
  {
   "cell_type": "code",
   "execution_count": 9,
   "metadata": {},
   "outputs": [
    {
     "name": "stdout",
     "output_type": "stream",
     "text": [
      "<class 'pandas.core.frame.DataFrame'>\n",
      "RangeIndex: 142284 entries, 0 to 142283\n",
      "Data columns (total 9 columns):\n",
      " #   Column                 Non-Null Count   Dtype  \n",
      "---  ------                 --------------   -----  \n",
      " 0   Month                  142284 non-null  object \n",
      " 1   Falls within           142284 non-null  object \n",
      " 2   Longitude              142284 non-null  float64\n",
      " 3   Latitude               142284 non-null  float64\n",
      " 4   Location               142284 non-null  object \n",
      " 5   LSOA code              142284 non-null  object \n",
      " 6   LSOA name              142284 non-null  object \n",
      " 7   Crime type             142284 non-null  object \n",
      " 8   Last outcome category  142284 non-null  object \n",
      "dtypes: float64(2), object(7)\n",
      "memory usage: 9.8+ MB\n"
     ]
    }
   ],
   "source": [
    "clean_df.info()"
   ]
  },
  {
   "cell_type": "code",
   "execution_count": 10,
   "metadata": {},
   "outputs": [],
   "source": [
    "# Change \"Month\" column to datetime datatype\n",
    "clean_df['Month'] = pd.to_datetime(clean_df['Month'])\n",
    "\n",
    "\n",
    "# Set the \"Month\" column as index\n",
    "clean_df.set_index('Month', inplace=True)"
   ]
  },
  {
   "cell_type": "code",
   "execution_count": 14,
   "metadata": {},
   "outputs": [
    {
     "data": {
      "text/plain": [
       "Month\n",
       "2023-01-01              Other theft\n",
       "2023-01-01    Anti-social behaviour\n",
       "2023-01-01    Anti-social behaviour\n",
       "2023-01-01    Anti-social behaviour\n",
       "2023-01-01                 Burglary\n",
       "Name: Crime type, dtype: object"
      ]
     },
     "execution_count": 14,
     "metadata": {},
     "output_type": "execute_result"
    }
   ],
   "source": [
    "new_df = clean_df['Crime type']\n",
    "new_df.head()"
   ]
  },
  {
   "cell_type": "code",
   "execution_count": 25,
   "metadata": {},
   "outputs": [
    {
     "name": "stdout",
     "output_type": "stream",
     "text": [
      "            Crime Count\n",
      "Month                  \n",
      "2023-01-31         7663\n",
      "2023-02-28         8069\n",
      "2023-03-31         8726\n",
      "2023-04-30         8707\n",
      "2023-05-31         8764\n",
      "2023-06-30         8719\n",
      "2023-07-31         8556\n",
      "2023-08-31         8299\n",
      "2023-09-30         8091\n",
      "2023-10-31         8148\n",
      "2023-11-30         6844\n",
      "2023-12-31         6523\n",
      "2024-01-31         6561\n",
      "2024-02-29         6641\n",
      "2024-03-31         7690\n",
      "2024-04-30         7921\n",
      "2024-05-31         8556\n",
      "2024-06-30         7806\n"
     ]
    }
   ],
   "source": [
    "# Group by the month and sum the occurrences of each crime type\n",
    "result = clean_df.groupby(pd.Grouper(freq='M'))['Crime type'].count()\n",
    "\n",
    "# Assign a column name to the result\n",
    "result = result.rename(\"Crime Count\")\n",
    "\n",
    "# If you want it to be a DataFrame instead of a Series\n",
    "result_df = result.reset_index()\n",
    "\n",
    "# Set the \"Month\" column as index\n",
    "result_df.set_index('Month', inplace=True)\n",
    "\n",
    "# Display the result\n",
    "print(result_df)"
   ]
  },
  {
   "cell_type": "code",
   "execution_count": 26,
   "metadata": {},
   "outputs": [
    {
     "name": "stdout",
     "output_type": "stream",
     "text": [
      "<class 'pandas.core.frame.DataFrame'>\n",
      "DatetimeIndex: 18 entries, 2023-01-31 to 2024-06-30\n",
      "Data columns (total 1 columns):\n",
      " #   Column       Non-Null Count  Dtype\n",
      "---  ------       --------------  -----\n",
      " 0   Crime Count  18 non-null     int64\n",
      "dtypes: int64(1)\n",
      "memory usage: 288.0 bytes\n"
     ]
    }
   ],
   "source": [
    "result_df.info()"
   ]
  },
  {
   "cell_type": "code",
   "execution_count": 29,
   "metadata": {},
   "outputs": [
    {
     "data": {
      "text/plain": [
       "<Figure size 2000x1000 with 0 Axes>"
      ]
     },
     "metadata": {},
     "output_type": "display_data"
    },
    {
     "data": {
      "image/png": "[encoded data removed]",
      "text/plain": [
       "<Figure size 640x480 with 1 Axes>"
      ]
     },
     "metadata": {},
     "output_type": "display_data"
    }
   ],
   "source": [
    "\n",
    "# Plot the data\n",
    "plt.figure(figsize=(20, 10))\n",
    "result_df.plot(kind='line')\n",
    "plt.title('Monthly Crime Count')\n",
    "plt.xlabel('Month')\n",
    "plt.ylabel('Crime Count')\n",
    "plt.grid(True)\n",
    "plt.xticks(rotation=45)  # Rotate x-axis labels for better readability\n",
    "plt.tight_layout()  # Adjusts plot to ensure everything fits without overlapping\n",
    "plt.show()"
   ]
  }
 ],
 "metadata": {
  "kernelspec": {
   "display_name": "base",
   "language": "python",
   "name": "python3"
  },
  "language_info": {
   "codemirror_mode": {
    "name": "ipython",
    "version": 3
   },
   "file_extension": ".py",
   "mimetype": "text/x-python",
   "name": "python",
   "nbconvert_exporter": "python",
   "pygments_lexer": "ipython3",
   "version": "3.9.13"
  }
 },
 "nbformat": 4,
 "nbformat_minor": 2
}
